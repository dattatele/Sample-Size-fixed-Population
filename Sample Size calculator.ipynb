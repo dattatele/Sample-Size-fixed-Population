{
 "cells": [
  {
   "cell_type": "code",
   "execution_count": 22,
   "metadata": {
    "collapsed": false
   },
   "outputs": [
    {
     "name": "stdout",
     "output_type": "stream",
     "text": [
      "SAMPLE SIZE: 383\n"
     ]
    }
   ],
   "source": [
    "\n",
    "import math\n",
    " \n",
    "confidence_level_constant = [90,1.64], [95,1.96], [99,2.57]\n",
    " \n",
    "\"\"\"\n",
    "Standard of Deviation Assumed 0.5 for safe \n",
    "Since we haven’t actually administered our survey yet, the safe decision is to use .5 \n",
    "This is the most forgiving number and ensures that your sample will be large enough.\n",
    "Ref - https://www.qualtrics.com/blog/determining-sample-size/\n",
    "http://www.research-advisors.com/tools/SampleSize.htm\n",
    "\"\"\"\n",
    "# CALCULATE THE SAMPLE SIZE\n",
    "def sample_size(population_size, confidence_level, confidence_interval):\n",
    "    Z = 1.96\n",
    "    sigma = 0.5\n",
    "    p = 0.05 # Siginificance level 1-0.95 =0.05\n",
    "    N = population_size\n",
    "    n_0 = 0.0\n",
    "    n = 0.0\n",
    " \n",
    "\n",
    "  # DEVIATIONS FOR THAT CONFIDENCE LEVEL\n",
    "    for i in confidence_level_constant:\n",
    "        if i[0] == confidence_level:\n",
    "            Z = i[1]\n",
    " \n",
    "    if Z == 0.0:\n",
    "        return -1\n",
    " \n",
    "  # CALC SAMPLE SIZE\n",
    "    n_0 = ((Z**2) * sigma * (1-sigma)) / (p**2)\n",
    " \n",
    "  # ADJUST SAMPLE SIZE FOR FINITE POPULATION\n",
    "    n = n_0 / (1 + ((n_0 - 1) / float(N)) )\n",
    "    return int(math.ceil(n)) # THE SAMPLE SIZE\n",
    " \n",
    "def main():\n",
    "  sample_sz = 0\n",
    "  population_sz = 90000\n",
    "  confidence_level = 95.0\n",
    "  confidence_interval = 2.0\n",
    " \n",
    "  sample_sz = sample_size(population_sz, confidence_level, confidence_interval)\n",
    " \n",
    "  print (\"SAMPLE SIZE: %d\" % sample_sz)\n",
    " \n",
    "if __name__ == \"__main__\":\n",
    "  main()"
   ]
  },
  {
   "cell_type": "code",
   "execution_count": null,
   "metadata": {
    "collapsed": true
   },
   "outputs": [],
   "source": []
  }
 ],
 "metadata": {
  "kernelspec": {
   "display_name": "Python 3",
   "language": "python",
   "name": "python3"
  },
  "language_info": {
   "codemirror_mode": {
    "name": "ipython",
    "version": 3
   },
   "file_extension": ".py",
   "mimetype": "text/x-python",
   "name": "python",
   "nbconvert_exporter": "python",
   "pygments_lexer": "ipython3",
   "version": "3.6.0"
  }
 },
 "nbformat": 4,
 "nbformat_minor": 2
}
